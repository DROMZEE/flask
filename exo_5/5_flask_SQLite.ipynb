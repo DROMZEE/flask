{
 "cells": [
  {
   "cell_type": "markdown",
   "metadata": {},
   "source": [
    "# SQLite"
   ]
  },
  {
   "cell_type": "markdown",
   "metadata": {
    "toc": true
   },
   "source": [
    "<h1>Table of Contents<span class=\"tocSkip\"></span></h1>\n",
    "<div class=\"toc\"><ul class=\"toc-item\"><li><span><a href=\"#SQLite\" data-toc-modified-id=\"SQLite-1\"><span class=\"toc-item-num\">1&nbsp;&nbsp;</span>SQLite</a></span><ul class=\"toc-item\"><li><span><a href=\"#Création-de-la-base\" data-toc-modified-id=\"Création-de-la-base-1.1\"><span class=\"toc-item-num\">1.1&nbsp;&nbsp;</span>Création de la base</a></span></li><li><span><a href=\"#Création-de-la-table-et-des-champs\" data-toc-modified-id=\"Création-de-la-table-et-des-champs-1.2\"><span class=\"toc-item-num\">1.2&nbsp;&nbsp;</span>Création de la table et des champs</a></span></li><li><span><a href=\"#Ajout-de-données-à-la-table\" data-toc-modified-id=\"Ajout-de-données-à-la-table-1.3\"><span class=\"toc-item-num\">1.3&nbsp;&nbsp;</span>Ajout de données à la table</a></span></li><li><span><a href=\"#Requêtes\" data-toc-modified-id=\"Requêtes-1.4\"><span class=\"toc-item-num\">1.4&nbsp;&nbsp;</span>Requêtes</a></span><ul class=\"toc-item\"><li><span><a href=\"#Liste-des-tables-dans-une-base-de-données\" data-toc-modified-id=\"Liste-des-tables-dans-une-base-de-données-1.4.1\"><span class=\"toc-item-num\">1.4.1&nbsp;&nbsp;</span>Liste des tables dans une base de données</a></span></li><li><span><a href=\"#Liste-des-colonnes\" data-toc-modified-id=\"Liste-des-colonnes-1.4.2\"><span class=\"toc-item-num\">1.4.2&nbsp;&nbsp;</span>Liste des colonnes</a></span></li><li><span><a href=\"#Nb-de-lignes\" data-toc-modified-id=\"Nb-de-lignes-1.4.3\"><span class=\"toc-item-num\">1.4.3&nbsp;&nbsp;</span>Nb de lignes</a></span></li></ul></li><li><span><a href=\"#Avec-Pandas\" data-toc-modified-id=\"Avec-Pandas-1.5\"><span class=\"toc-item-num\">1.5&nbsp;&nbsp;</span>Avec Pandas</a></span></li></ul></li></ul></div>"
   ]
  },
  {
   "cell_type": "code",
   "execution_count": null,
   "metadata": {},
   "outputs": [],
   "source": []
  },
  {
   "cell_type": "code",
   "execution_count": 1,
   "metadata": {},
   "outputs": [],
   "source": [
    "%load_ext sql"
   ]
  },
  {
   "cell_type": "markdown",
   "metadata": {},
   "source": [
    "## Création de la base"
   ]
  },
  {
   "cell_type": "markdown",
   "metadata": {},
   "source": [
    "* Nom de la base : flask.db3\n",
    "* Chemin : /data"
   ]
  },
  {
   "cell_type": "code",
   "execution_count": 3,
   "metadata": {},
   "outputs": [
    {
     "data": {
      "text/plain": [
       "'Connected: @data/flask.db3'"
      ]
     },
     "execution_count": 3,
     "metadata": {},
     "output_type": "execute_result"
    }
   ],
   "source": [
    "%sql sqlite:///data/flask.db3"
   ]
  },
  {
   "cell_type": "markdown",
   "metadata": {},
   "source": [
    "## Création de la table et des champs\n",
    "* Table : users\n",
    "* Nom des champs :\n",
    "    * id\n",
    "    * nom\n",
    "    * prenom\n",
    "    * sexe\n",
    "    * pseudo"
   ]
  },
  {
   "cell_type": "code",
   "execution_count": 7,
   "metadata": {},
   "outputs": [
    {
     "name": "stdout",
     "output_type": "stream",
     "text": [
      "(sqlite3.OperationalError) table users already exists\n",
      "[SQL: CREATE TABLE users(\n",
      "    ID int  NOT NULL UNIQUE,\n",
      "    PRIMARY KEY (ID),\n",
      "    Prenom VARCHAR(50) NOT NULL,\n",
      "    Nom VARCHAR(50) NOT NULL,  \n",
      "    Pseudo VARCHAR(50) NOT NULL,\n",
      "    Sexe VARCHAR(5) NOT NULL,\n",
      ");]\n",
      "(Background on this error at: http://sqlalche.me/e/e3q8)\n"
     ]
    }
   ],
   "source": [
    "%%sql sqlite://\n",
    "CREATE TABLE users(\n",
    "    ID int  NOT NULL UNIQUE,\n",
    "    PRIMARY KEY (ID),\n",
    "    Prenom VARCHAR(50) NOT NULL,\n",
    "    Nom VARCHAR(50) NOT NULL,  \n",
    "    Pseudo VARCHAR(50) NOT NULL,\n",
    "    Sexe VARCHAR(5) NOT NULL,\n",
    ");"
   ]
  },
  {
   "cell_type": "markdown",
   "metadata": {},
   "source": [
    "TODO : changer Sexe en booléen"
   ]
  },
  {
   "cell_type": "markdown",
   "metadata": {},
   "source": [
    "## Ajout de données à la table"
   ]
  },
  {
   "cell_type": "code",
   "execution_count": 9,
   "metadata": {},
   "outputs": [
    {
     "name": "stdout",
     "output_type": "stream",
     "text": [
      "1 rows affected.\n",
      "1 rows affected.\n",
      "1 rows affected.\n"
     ]
    },
    {
     "data": {
      "text/plain": [
       "[]"
      ]
     },
     "execution_count": 9,
     "metadata": {},
     "output_type": "execute_result"
    }
   ],
   "source": [
    "%%sql sqlite://\n",
    "INSERT INTO users VALUES (1, 'William', 'Shakespeare', 'willi', 'M');\n",
    "INSERT INTO users VALUES (2, 'Meidi', 'Cament', 'Med', 'M');\n",
    "INSERT INTO users VALUES (3, 'jean', 'Bon', 'JJ', 'M');"
   ]
  },
  {
   "cell_type": "markdown",
   "metadata": {},
   "source": [
    "## Requêtes"
   ]
  },
  {
   "cell_type": "code",
   "execution_count": 10,
   "metadata": {},
   "outputs": [
    {
     "name": "stdout",
     "output_type": "stream",
     "text": [
      " * sqlite:///data/flask.db3\n",
      "Done.\n"
     ]
    },
    {
     "data": {
      "text/html": [
       "<table>\n",
       "    <tr>\n",
       "        <th>ID</th>\n",
       "        <th>Prenom</th>\n",
       "        <th>Nom</th>\n",
       "        <th>Pseudo</th>\n",
       "        <th>Sexe</th>\n",
       "    </tr>\n",
       "    <tr>\n",
       "        <td>1</td>\n",
       "        <td>William</td>\n",
       "        <td>Shakespeare</td>\n",
       "        <td>willi</td>\n",
       "        <td>M</td>\n",
       "    </tr>\n",
       "    <tr>\n",
       "        <td>2</td>\n",
       "        <td>Meidi</td>\n",
       "        <td>Cament</td>\n",
       "        <td>Med</td>\n",
       "        <td>M</td>\n",
       "    </tr>\n",
       "    <tr>\n",
       "        <td>3</td>\n",
       "        <td>jean</td>\n",
       "        <td>Bon</td>\n",
       "        <td>JJ</td>\n",
       "        <td>M</td>\n",
       "    </tr>\n",
       "</table>"
      ],
      "text/plain": [
       "[(1, 'William', 'Shakespeare', 'willi', 'M'),\n",
       " (2, 'Meidi', 'Cament', 'Med', 'M'),\n",
       " (3, 'jean', 'Bon', 'JJ', 'M')]"
      ]
     },
     "execution_count": 10,
     "metadata": {},
     "output_type": "execute_result"
    }
   ],
   "source": [
    "sqlres = %sql SELECT * from users\n",
    "sqlres"
   ]
  },
  {
   "cell_type": "code",
   "execution_count": null,
   "metadata": {},
   "outputs": [],
   "source": []
  },
  {
   "cell_type": "code",
   "execution_count": 11,
   "metadata": {},
   "outputs": [
    {
     "name": "stdout",
     "output_type": "stream",
     "text": [
      " * sqlite:///data/flask.db3\n",
      "Done.\n"
     ]
    },
    {
     "data": {
      "text/html": [
       "<table>\n",
       "    <tr>\n",
       "        <th>Prenom</th>\n",
       "        <th>Nom</th>\n",
       "    </tr>\n",
       "    <tr>\n",
       "        <td>William</td>\n",
       "        <td>Shakespeare</td>\n",
       "    </tr>\n",
       "    <tr>\n",
       "        <td>Meidi</td>\n",
       "        <td>Cament</td>\n",
       "    </tr>\n",
       "    <tr>\n",
       "        <td>jean</td>\n",
       "        <td>Bon</td>\n",
       "    </tr>\n",
       "</table>"
      ],
      "text/plain": [
       "[('William', 'Shakespeare'), ('Meidi', 'Cament'), ('jean', 'Bon')]"
      ]
     },
     "execution_count": 11,
     "metadata": {},
     "output_type": "execute_result"
    }
   ],
   "source": [
    "sqlres = %sql SELECT Prenom, Nom from users\n",
    "sqlres"
   ]
  },
  {
   "cell_type": "markdown",
   "metadata": {},
   "source": [
    "### Liste des tables dans une base de données"
   ]
  },
  {
   "cell_type": "code",
   "execution_count": 12,
   "metadata": {},
   "outputs": [
    {
     "name": "stdout",
     "output_type": "stream",
     "text": [
      " * sqlite:///data/flask.db3\n",
      "Done.\n"
     ]
    },
    {
     "data": {
      "text/html": [
       "<table>\n",
       "    <tr>\n",
       "        <th>name</th>\n",
       "    </tr>\n",
       "    <tr>\n",
       "        <td>users</td>\n",
       "    </tr>\n",
       "</table>"
      ],
      "text/plain": [
       "[('users',)]"
      ]
     },
     "execution_count": 12,
     "metadata": {},
     "output_type": "execute_result"
    }
   ],
   "source": [
    "%sql SELECT name FROM sqlite_master WHERE type='table'"
   ]
  },
  {
   "cell_type": "markdown",
   "metadata": {},
   "source": [
    "### Liste des colonnes"
   ]
  },
  {
   "cell_type": "code",
   "execution_count": 14,
   "metadata": {},
   "outputs": [
    {
     "name": "stdout",
     "output_type": "stream",
     "text": [
      " * sqlite:///data/flask.db3\n",
      "Done.\n"
     ]
    },
    {
     "data": {
      "text/html": [
       "<table>\n",
       "    <tr>\n",
       "        <th>ID</th>\n",
       "        <th>Prenom</th>\n",
       "        <th>Nom</th>\n",
       "        <th>Pseudo</th>\n",
       "        <th>Sexe</th>\n",
       "    </tr>\n",
       "</table>"
      ],
      "text/plain": [
       "[]"
      ]
     },
     "execution_count": 14,
     "metadata": {},
     "output_type": "execute_result"
    }
   ],
   "source": [
    "%sql select * from users where 1=0"
   ]
  },
  {
   "cell_type": "code",
   "execution_count": 15,
   "metadata": {},
   "outputs": [
    {
     "name": "stdout",
     "output_type": "stream",
     "text": [
      " * sqlite:///data/flask.db3\n",
      "Done.\n"
     ]
    },
    {
     "data": {
      "text/html": [
       "<table>\n",
       "    <tr>\n",
       "        <th>ID</th>\n",
       "        <th>Prenom</th>\n",
       "        <th>Nom</th>\n",
       "        <th>Pseudo</th>\n",
       "        <th>Sexe</th>\n",
       "    </tr>\n",
       "</table>"
      ],
      "text/plain": [
       "[]"
      ]
     },
     "execution_count": 15,
     "metadata": {},
     "output_type": "execute_result"
    }
   ],
   "source": [
    "%sql select * from users LIMIT 0"
   ]
  },
  {
   "cell_type": "code",
   "execution_count": 16,
   "metadata": {},
   "outputs": [
    {
     "name": "stdout",
     "output_type": "stream",
     "text": [
      " * sqlite:///data/flask.db3\n",
      "Done.\n"
     ]
    },
    {
     "data": {
      "text/html": [
       "<table>\n",
       "    <tr>\n",
       "        <th>ID</th>\n",
       "        <th>Prenom</th>\n",
       "        <th>Nom</th>\n",
       "        <th>Pseudo</th>\n",
       "        <th>Sexe</th>\n",
       "    </tr>\n",
       "    <tr>\n",
       "        <td>1</td>\n",
       "        <td>William</td>\n",
       "        <td>Shakespeare</td>\n",
       "        <td>willi</td>\n",
       "        <td>M</td>\n",
       "    </tr>\n",
       "    <tr>\n",
       "        <td>2</td>\n",
       "        <td>Meidi</td>\n",
       "        <td>Cament</td>\n",
       "        <td>Med</td>\n",
       "        <td>M</td>\n",
       "    </tr>\n",
       "</table>"
      ],
      "text/plain": [
       "[(1, 'William', 'Shakespeare', 'willi', 'M'),\n",
       " (2, 'Meidi', 'Cament', 'Med', 'M')]"
      ]
     },
     "execution_count": 16,
     "metadata": {},
     "output_type": "execute_result"
    }
   ],
   "source": [
    "%sql select * from users LIMIT 2"
   ]
  },
  {
   "cell_type": "markdown",
   "metadata": {},
   "source": [
    "! la commande ci-dessous renvoie tout le contenu (donc faire attention à la taille avnt de lancer la commande)"
   ]
  },
  {
   "cell_type": "code",
   "execution_count": 17,
   "metadata": {},
   "outputs": [
    {
     "name": "stdout",
     "output_type": "stream",
     "text": [
      " * sqlite:///data/flask.db3\n",
      "Done.\n"
     ]
    },
    {
     "data": {
      "text/html": [
       "<table>\n",
       "    <tr>\n",
       "        <th>ID</th>\n",
       "        <th>Prenom</th>\n",
       "        <th>Nom</th>\n",
       "        <th>Pseudo</th>\n",
       "        <th>Sexe</th>\n",
       "    </tr>\n",
       "    <tr>\n",
       "        <td>1</td>\n",
       "        <td>William</td>\n",
       "        <td>Shakespeare</td>\n",
       "        <td>willi</td>\n",
       "        <td>M</td>\n",
       "    </tr>\n",
       "    <tr>\n",
       "        <td>2</td>\n",
       "        <td>Meidi</td>\n",
       "        <td>Cament</td>\n",
       "        <td>Med</td>\n",
       "        <td>M</td>\n",
       "    </tr>\n",
       "    <tr>\n",
       "        <td>3</td>\n",
       "        <td>jean</td>\n",
       "        <td>Bon</td>\n",
       "        <td>JJ</td>\n",
       "        <td>M</td>\n",
       "    </tr>\n",
       "</table>"
      ],
      "text/plain": [
       "[(1, 'William', 'Shakespeare', 'willi', 'M'),\n",
       " (2, 'Meidi', 'Cament', 'Med', 'M'),\n",
       " (3, 'jean', 'Bon', 'JJ', 'M')]"
      ]
     },
     "execution_count": 17,
     "metadata": {},
     "output_type": "execute_result"
    }
   ],
   "source": [
    "%sql select * from users"
   ]
  },
  {
   "cell_type": "markdown",
   "metadata": {},
   "source": [
    "### Nb de lignes"
   ]
  },
  {
   "cell_type": "code",
   "execution_count": 18,
   "metadata": {},
   "outputs": [
    {
     "name": "stdout",
     "output_type": "stream",
     "text": [
      " * sqlite:///data/flask.db3\n",
      "Done.\n"
     ]
    },
    {
     "data": {
      "text/html": [
       "<table>\n",
       "    <tr>\n",
       "        <th>nrow</th>\n",
       "    </tr>\n",
       "    <tr>\n",
       "        <td>3</td>\n",
       "    </tr>\n",
       "</table>"
      ],
      "text/plain": [
       "[(3,)]"
      ]
     },
     "execution_count": 18,
     "metadata": {},
     "output_type": "execute_result"
    }
   ],
   "source": [
    "%sql SELECT COUNT(*) as nrow From users"
   ]
  },
  {
   "cell_type": "code",
   "execution_count": 19,
   "metadata": {},
   "outputs": [
    {
     "name": "stdout",
     "output_type": "stream",
     "text": [
      " * sqlite:///data/flask.db3\n",
      "Done.\n"
     ]
    },
    {
     "data": {
      "text/html": [
       "<table>\n",
       "    <tr>\n",
       "        <th>Prenom</th>\n",
       "        <th>Nom</th>\n",
       "    </tr>\n",
       "    <tr>\n",
       "        <td>jean</td>\n",
       "        <td>Bon</td>\n",
       "    </tr>\n",
       "</table>"
      ],
      "text/plain": [
       "[('jean', 'Bon')]"
      ]
     },
     "execution_count": 19,
     "metadata": {},
     "output_type": "execute_result"
    }
   ],
   "source": [
    "%sql SELECT Prenom, Nom From users WHERE pseudo='JJ'"
   ]
  },
  {
   "cell_type": "markdown",
   "metadata": {},
   "source": [
    "## Avec Pandas"
   ]
  },
  {
   "cell_type": "code",
   "execution_count": 20,
   "metadata": {},
   "outputs": [],
   "source": [
    "import pandas as pd\n",
    "import matplotlib.pyplot as plt\n",
    "import matplotlib\n",
    "\n",
    "%matplotlib inline"
   ]
  },
  {
   "cell_type": "code",
   "execution_count": 21,
   "metadata": {},
   "outputs": [
    {
     "name": "stdout",
     "output_type": "stream",
     "text": [
      " * sqlite:///data/flask.db3\n",
      "(sqlite3.OperationalError) near \"FROM\": syntax error\n",
      "[SQL: SELECT Prenom, Nom, Sexe, Pseudo, FROM users]\n",
      "(Background on this error at: http://sqlalche.me/e/e3q8)\n"
     ]
    }
   ],
   "source": [
    "%%sql sqlres << \n",
    "SELECT Prenom, Nom, Sexe, Pseudo, \n",
    "FROM users"
   ]
  },
  {
   "cell_type": "code",
   "execution_count": 22,
   "metadata": {},
   "outputs": [
    {
     "data": {
      "text/html": [
       "<div>\n",
       "<style scoped>\n",
       "    .dataframe tbody tr th:only-of-type {\n",
       "        vertical-align: middle;\n",
       "    }\n",
       "\n",
       "    .dataframe tbody tr th {\n",
       "        vertical-align: top;\n",
       "    }\n",
       "\n",
       "    .dataframe thead th {\n",
       "        text-align: right;\n",
       "    }\n",
       "</style>\n",
       "<table border=\"1\" class=\"dataframe\">\n",
       "  <thead>\n",
       "    <tr style=\"text-align: right;\">\n",
       "      <th></th>\n",
       "      <th>Prenom</th>\n",
       "      <th>Nom</th>\n",
       "    </tr>\n",
       "  </thead>\n",
       "  <tbody>\n",
       "    <tr>\n",
       "      <th>0</th>\n",
       "      <td>William</td>\n",
       "      <td>Shakespeare</td>\n",
       "    </tr>\n",
       "    <tr>\n",
       "      <th>1</th>\n",
       "      <td>Meidi</td>\n",
       "      <td>Cament</td>\n",
       "    </tr>\n",
       "    <tr>\n",
       "      <th>2</th>\n",
       "      <td>jean</td>\n",
       "      <td>Bon</td>\n",
       "    </tr>\n",
       "  </tbody>\n",
       "</table>\n",
       "</div>"
      ],
      "text/plain": [
       "    Prenom          Nom\n",
       "0  William  Shakespeare\n",
       "1    Meidi       Cament\n",
       "2     jean          Bon"
      ]
     },
     "execution_count": 22,
     "metadata": {},
     "output_type": "execute_result"
    }
   ],
   "source": [
    "df = sqlres.DataFrame()\n",
    "df.head()"
   ]
  },
  {
   "cell_type": "markdown",
   "metadata": {},
   "source": [
    "https://www.javatpoint.com/flask-sqlite"
   ]
  },
  {
   "cell_type": "code",
   "execution_count": null,
   "metadata": {},
   "outputs": [],
   "source": []
  }
 ],
 "metadata": {
  "kernelspec": {
   "display_name": "Python 3",
   "language": "python",
   "name": "python3"
  },
  "language_info": {
   "codemirror_mode": {
    "name": "ipython",
    "version": 3
   },
   "file_extension": ".py",
   "mimetype": "text/x-python",
   "name": "python",
   "nbconvert_exporter": "python",
   "pygments_lexer": "ipython3",
   "version": "3.7.6"
  },
  "toc": {
   "base_numbering": 1,
   "nav_menu": {},
   "number_sections": true,
   "sideBar": true,
   "skip_h1_title": false,
   "title_cell": "Table of Contents",
   "title_sidebar": "Contents",
   "toc_cell": true,
   "toc_position": {},
   "toc_section_display": true,
   "toc_window_display": true
  }
 },
 "nbformat": 4,
 "nbformat_minor": 4
}
