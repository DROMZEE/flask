{
 "cells": [
  {
   "cell_type": "markdown",
   "metadata": {},
   "source": [
    "# Gestion d'erreur"
   ]
  },
  {
   "cell_type": "markdown",
   "metadata": {
    "toc": true
   },
   "source": [
    "<h1>Table of Contents<span class=\"tocSkip\"></span></h1>\n",
    "<div class=\"toc\"><ul class=\"toc-item\"><li><span><a href=\"#Werkzeug-:-dump_csp_header\" data-toc-modified-id=\"Werkzeug-:-dump_csp_header-1\"><span class=\"toc-item-num\">1&nbsp;&nbsp;</span>Werkzeug : dump_csp_header</a></span><ul class=\"toc-item\"><li><span><a href=\"#Version-de-werkzeug-?\" data-toc-modified-id=\"Version-de-werkzeug-?-1.1\"><span class=\"toc-item-num\">1.1&nbsp;&nbsp;</span>Version de werkzeug ?</a></span></li></ul></li></ul></div>"
   ]
  },
  {
   "cell_type": "markdown",
   "metadata": {},
   "source": [
    "## Werkzeug : dump_csp_header"
   ]
  },
  {
   "cell_type": "markdown",
   "metadata": {},
   "source": [
    "### Version de werkzeug ?"
   ]
  },
  {
   "cell_type": "markdown",
   "metadata": {},
   "source": [
    "vérifier la version installée avec une des commande suivante"
   ]
  },
  {
   "cell_type": "markdown",
   "metadata": {},
   "source": [
    "```console\n",
    "pip list\n",
    "flask.__version__\n",
    "pip freeze | grep Flask\n",
    "flask --version```"
   ]
  },
  {
   "cell_type": "markdown",
   "metadata": {},
   "source": [
    "résultat : 1.0.0"
   ]
  },
  {
   "cell_type": "markdown",
   "metadata": {},
   "source": [
    "Cette version présente encore des problème, il faut downgrader vers 0.16.1"
   ]
  },
  {
   "cell_type": "markdown",
   "metadata": {},
   "source": [
    "```console\n",
    "install pip Werkzeug == 0.16.1```"
   ]
  },
  {
   "cell_type": "markdown",
   "metadata": {},
   "source": [
    "résultat : plus de message d'erreur"
   ]
  },
  {
   "cell_type": "code",
   "execution_count": null,
   "metadata": {},
   "outputs": [],
   "source": []
  }
 ],
 "metadata": {
  "kernelspec": {
   "display_name": "Python 3",
   "language": "python",
   "name": "python3"
  },
  "language_info": {
   "codemirror_mode": {
    "name": "ipython",
    "version": 3
   },
   "file_extension": ".py",
   "mimetype": "text/x-python",
   "name": "python",
   "nbconvert_exporter": "python",
   "pygments_lexer": "ipython3",
   "version": "3.7.7"
  },
  "toc": {
   "base_numbering": 1,
   "nav_menu": {},
   "number_sections": true,
   "sideBar": true,
   "skip_h1_title": true,
   "title_cell": "Table of Contents",
   "title_sidebar": "Contents",
   "toc_cell": true,
   "toc_position": {},
   "toc_section_display": true,
   "toc_window_display": true
  }
 },
 "nbformat": 4,
 "nbformat_minor": 4
}
